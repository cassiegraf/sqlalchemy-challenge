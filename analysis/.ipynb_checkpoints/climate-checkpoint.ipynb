{
 "cells": [
  {
   "cell_type": "code",
   "execution_count": null,
   "metadata": {},
   "outputs": [],
   "source": [
    "#HINTS - \n",
    "# join the station and measurement tables for some of the queries\n",
    "# use the Flask jsonify function to convert your API data to a valid JSON response object"
   ]
  },
  {
   "cell_type": "code",
   "execution_count": null,
   "metadata": {},
   "outputs": [],
   "source": [
    "#Coding Conventions and Formatting\n",
    "#To receive all points, your code must\n",
    "# - Place imports at the top of the file, just after any module comments and docstrings, and before module globals and constants\n",
    "# - Name functions and variables with lowercase characters, with words separated by underscores.\n",
    "# - Follow DRY (Don't Repeat Yourself) principles, creating maintainable and reusable code.\n",
    "# - Use concise logic and creative engineering where possible.\n",
    "\n",
    "# Code must be well commented with concise, relevant notes that other developers can understand."
   ]
  },
  {
   "cell_type": "markdown",
   "metadata": {},
   "source": [
    "## Part 1: Analyze and Explore the Climate Data"
   ]
  },
  {
   "cell_type": "code",
   "execution_count": null,
   "metadata": {},
   "outputs": [],
   "source": [
    "#Use the SQLAlchemy create_engine() function to connect to your SQLite database."
   ]
  },
  {
   "cell_type": "code",
   "execution_count": null,
   "metadata": {},
   "outputs": [],
   "source": [
    "#Use the SQLAlchemy automap_base() function to reflect your tables into classes\n",
    "#and then save references to the classes named station and measurement."
   ]
  },
  {
   "cell_type": "code",
   "execution_count": null,
   "metadata": {},
   "outputs": [],
   "source": [
    "#link Python to the database by creating a SQLAlchemy session"
   ]
  },
  {
   "cell_type": "code",
   "execution_count": null,
   "metadata": {},
   "outputs": [],
   "source": [
    "#Perform a precipitation analysis and then a station analysis by completing the steps below..."
   ]
  },
  {
   "cell_type": "markdown",
   "metadata": {},
   "source": [
    "### Precipitation Analysis"
   ]
  },
  {
   "cell_type": "code",
   "execution_count": null,
   "metadata": {},
   "outputs": [],
   "source": [
    "#find the most recent date in the dataset (8/23/2017)"
   ]
  },
  {
   "cell_type": "code",
   "execution_count": null,
   "metadata": {},
   "outputs": [],
   "source": [
    "#using that date, get the previous 12 months of precipitation data by querying the previous 12 months of data"
   ]
  },
  {
   "cell_type": "code",
   "execution_count": null,
   "metadata": {},
   "outputs": [],
   "source": [
    "#select only the \"date\" and \"prcp\" values (for the last 12 months of data w/o passing the date as a variable)"
   ]
  },
  {
   "cell_type": "code",
   "execution_count": null,
   "metadata": {},
   "outputs": [],
   "source": [
    "#laod the query results into a Pandas DataFrame...explicitly set the column names to 'date' and 'precipitation'"
   ]
  },
  {
   "cell_type": "code",
   "execution_count": null,
   "metadata": {},
   "outputs": [],
   "source": [
    "#sort the DataFrame values by \"date\""
   ]
  },
  {
   "cell_type": "code",
   "execution_count": null,
   "metadata": {},
   "outputs": [],
   "source": [
    "#plot the results by using the DataFrame plot method (see image in BCS) - 'date' as x and 'precipitation' as y"
   ]
  },
  {
   "cell_type": "code",
   "execution_count": null,
   "metadata": {},
   "outputs": [],
   "source": [
    "#use Pandas to print the summary stats for the precipitation data"
   ]
  },
  {
   "cell_type": "markdown",
   "metadata": {},
   "source": [
    "### Station Analysis"
   ]
  },
  {
   "cell_type": "code",
   "execution_count": null,
   "metadata": {},
   "outputs": [],
   "source": [
    "#design a query to calculate the total number of stations in the dataset (9)"
   ]
  },
  {
   "cell_type": "code",
   "execution_count": null,
   "metadata": {},
   "outputs": [],
   "source": [
    "#design a query to find the most-active stations (that is, the stations that have the most rows).\n",
    "#to do so, complete the following steps"
   ]
  },
  {
   "cell_type": "code",
   "execution_count": null,
   "metadata": {},
   "outputs": [],
   "source": [
    "#list the stations and observation counts in descending order - use func.count"
   ]
  },
  {
   "cell_type": "code",
   "execution_count": null,
   "metadata": {},
   "outputs": [],
   "source": [
    "#answer the following questions: which station id has the greatest number of observations? (USC00519281)"
   ]
  },
  {
   "cell_type": "code",
   "execution_count": null,
   "metadata": {},
   "outputs": [],
   "source": [
    "#design a query that calculates the lowest, highest, and average temperatures that filters on the most-active station id found\n",
    "#in the previous query (USC00519281) - use functions like func.min, func.max, func.avg"
   ]
  },
  {
   "cell_type": "code",
   "execution_count": null,
   "metadata": {},
   "outputs": [],
   "source": [
    "#design a query to get the previous 12 months of temperature observations (TOBS) data. To do so, complete the following:"
   ]
  },
  {
   "cell_type": "code",
   "execution_count": null,
   "metadata": {},
   "outputs": [],
   "source": [
    "#filter by the station that has the greatest number of observations"
   ]
  },
  {
   "cell_type": "code",
   "execution_count": null,
   "metadata": {},
   "outputs": [],
   "source": [
    "#query the previous 12 months of TOBS data for the station"
   ]
  },
  {
   "cell_type": "code",
   "execution_count": null,
   "metadata": {},
   "outputs": [],
   "source": [
    "#plot the results as a histogram with bins=12 (see image in BCS) for the last year of data using 'tobs' as the column to count"
   ]
  },
  {
   "cell_type": "code",
   "execution_count": null,
   "metadata": {},
   "outputs": [],
   "source": [
    "#close the session"
   ]
  },
  {
   "cell_type": "code",
   "execution_count": null,
   "metadata": {},
   "outputs": [],
   "source": []
  },
  {
   "cell_type": "markdown",
   "metadata": {},
   "source": [
    "# Part 2: Design Your Climate App"
   ]
  },
  {
   "cell_type": "code",
   "execution_count": null,
   "metadata": {},
   "outputs": [],
   "source": [
    "#to get full credit (API SQLite Connection and Landding Page) - Flask application must:\n",
    "#correctly genreate the engine to the correct sqlite file\n",
    "#use automap_base() and reflect teh database schema\n",
    "#correctly save references to the tables in the sqlite file ('measurement' and 'station')\n",
    "#correctly create and binds the session between the python app and database\n",
    "#display the available routes on the landing page"
   ]
  },
  {
   "cell_type": "code",
   "execution_count": null,
   "metadata": {},
   "outputs": [],
   "source": [
    "#to get full credit (API Static Routes) - Flask application must include:\n",
    "#A precipitation route that:\n",
    "# - Returns json with the date as the key and the value as the precipitation\n",
    "# - Only returns the jsonified precipitation data for the last year in the database\n",
    "#A stations route that:\n",
    "# - Returns jsonified data of all of the stations in the database\n",
    "#A tobs route that:\n",
    "# - Returns jsonified data for the most active station (USC00519281)\n",
    "# - Only returns the jsonified data for the last year of data"
   ]
  },
  {
   "cell_type": "code",
   "execution_count": null,
   "metadata": {},
   "outputs": [],
   "source": [
    "#to get full credit (API Dynamic Route) - Flask application must include:\n",
    "#A start route that:\n",
    "# - Accepts the start date as a parameter from the URL\n",
    "# - Returns the min, max, and average temperatures calculated from the given start date to the end of the dataset\n",
    "#A start/end route that:\n",
    "# - Accepts the start and end dates as parameters from the URL\n",
    "# - Returns the min, max, and average temperatures calculated from the given start date to the given end date"
   ]
  },
  {
   "cell_type": "code",
   "execution_count": null,
   "metadata": {},
   "outputs": [],
   "source": [
    "# /\n",
    "# - start at the homepage\n",
    "# - list all the available routes"
   ]
  },
  {
   "cell_type": "code",
   "execution_count": null,
   "metadata": {},
   "outputs": [],
   "source": [
    "# /api/v1.0/precipitation\n",
    "# - convert the query results from your precipitation analysis (retrieve only the last 12 months of data) to a dictionary\n",
    "#using 'date' as the key and 'prcp' as the value\n",
    "# - return the JSON representation of your dictionary"
   ]
  },
  {
   "cell_type": "code",
   "execution_count": null,
   "metadata": {},
   "outputs": [],
   "source": [
    "# /api/v1.0/stations\n",
    "# - return a JSON list of stations from the dataset"
   ]
  },
  {
   "cell_type": "code",
   "execution_count": null,
   "metadata": {},
   "outputs": [],
   "source": [
    "# /api/v1.0/tobs\n",
    "# - query the dates and temperature observations of the most-active station for the previous year of data\n",
    "# - return a JSON list of temperature observations for the previous year"
   ]
  },
  {
   "cell_type": "code",
   "execution_count": null,
   "metadata": {},
   "outputs": [],
   "source": [
    "# /api/v1.0/<start> and /api/v1.0/<start>/<end>\n",
    "# - return a JSON list of the minimum temperature, the average temperature, and the maximum temperature for a specified \n",
    "#start or start-end range\n",
    "# - for a specified start, calculate 'TMIN','TAVG', and 'TMAX' for all the dates greater than or equal to the start date\n",
    "# - for a specified start date and end date, calculate 'TMIN', 'TAVG', and 'TMAX' for the dates from the start date to end date\n",
    "#inclusive"
   ]
  },
  {
   "cell_type": "code",
   "execution_count": null,
   "metadata": {},
   "outputs": [],
   "source": []
  },
  {
   "cell_type": "code",
   "execution_count": null,
   "metadata": {},
   "outputs": [],
   "source": []
  },
  {
   "cell_type": "code",
   "execution_count": null,
   "metadata": {},
   "outputs": [],
   "source": []
  }
 ],
 "metadata": {
  "kernelspec": {
   "display_name": "Python 3 (ipykernel)",
   "language": "python",
   "name": "python3"
  },
  "language_info": {
   "codemirror_mode": {
    "name": "ipython",
    "version": 3
   },
   "file_extension": ".py",
   "mimetype": "text/x-python",
   "name": "python",
   "nbconvert_exporter": "python",
   "pygments_lexer": "ipython3",
   "version": "3.10.10"
  }
 },
 "nbformat": 4,
 "nbformat_minor": 2
}
